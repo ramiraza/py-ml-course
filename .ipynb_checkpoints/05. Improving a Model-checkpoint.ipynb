{
 "cells": [
  {
   "cell_type": "markdown",
   "id": "31e49f4c-7626-412d-89f8-8abd3b19da7b",
   "metadata": {},
   "source": [
    "## 05. Improving a (Machine Learning) Model\n",
    "\n",
    "Predictions made during the lifecycle of a model are often start with the very first prediction where the data might not be very accurate. This is likewise known as the following\n",
    "\n",
    "* First Prediction: Baseline Prediction.\n",
    "* First Model: Baseline Model.\n",
    "\n",
    "***HyperParameters Vs. (Data)Parameters?***\n",
    "* `hyper-parameter` setting on a model you can adjust to (potentially) improve its ability to find patterns\n",
    "* `parameter` parameters found within the dataset provided to the model\n",
    "\n",
    "***3 Ways to Adjust HyperParameters***\n",
    "1. By Hand (Manually\n",
    "2. Randomly with `RandomSearchCV`\n",
    "3. Exhaustively by `GridSearchCV`\n",
    "\n",
    "\n",
    "\n",
    "***How do We Make our Model Better?***\n",
    "\n",
    "**Data Perspective:**\n",
    "* Could we collect more data? (The more, the better)\n",
    "* Could we improve our data? (add more depth, parameters to our data)\n",
    "\n",
    "**Model Perspective:**\n",
    "* Is there a better model we could use? (Check the SciKit Estimators Map)\n",
    "* Could we improve the current model?"
   ]
  },
  {
   "cell_type": "code",
   "execution_count": 37,
   "id": "ac9a81a6-2f4b-4837-904e-1131dcbdf73f",
   "metadata": {},
   "outputs": [
    {
     "data": {
      "text/plain": [
       "{'bootstrap': True,\n",
       " 'ccp_alpha': 0.0,\n",
       " 'class_weight': None,\n",
       " 'criterion': 'gini',\n",
       " 'max_depth': None,\n",
       " 'max_features': 'auto',\n",
       " 'max_leaf_nodes': None,\n",
       " 'max_samples': None,\n",
       " 'min_impurity_decrease': 0.0,\n",
       " 'min_impurity_split': None,\n",
       " 'min_samples_leaf': 1,\n",
       " 'min_samples_split': 2,\n",
       " 'min_weight_fraction_leaf': 0.0,\n",
       " 'n_estimators': 100,\n",
       " 'n_jobs': None,\n",
       " 'oob_score': False,\n",
       " 'random_state': None,\n",
       " 'verbose': 0,\n",
       " 'warm_start': False}"
      ]
     },
     "execution_count": 37,
     "metadata": {},
     "output_type": "execute_result"
    }
   ],
   "source": [
    "import pandas as pd\n",
    "import numpy as np\n",
    "from sklearn.metrics import accuracy_score, precision_score, recall_score, f1_score\n",
    "from sklearn.ensemble import RandomForestClassifier\n",
    "\n",
    "clf = RandomForestClassifier()\n",
    "clf.get_params()"
   ]
  },
  {
   "cell_type": "markdown",
   "id": "52ade3bc-14b6-47b1-abef-faf665332ea0",
   "metadata": {},
   "source": [
    "### 5.1 Tuning Hyper Parameters by Hand\n",
    "We'll make 3 datasets:\n",
    "1. Training\n",
    "2. Validation\n",
    "3. Testing"
   ]
  },
  {
   "cell_type": "code",
   "execution_count": 20,
   "id": "e425c041-4a95-4937-8611-bae0a5aa662d",
   "metadata": {},
   "outputs": [],
   "source": [
    "# create a evaluate prediction function \n",
    "def evaluate_pred(y_true, y_preds):\n",
    "    \"\"\"\n",
    "    Performs evaluation comparison on y_true labels vs y_pred labels\n",
    "    on a classification model.\n",
    "    \"\"\"\n",
    "    accuracy = accuracy_score(y_true, y_preds)\n",
    "    precision = precision_score(y_true, y_preds)\n",
    "    recall = recall_score(y_true, y_preds)\n",
    "    f1 = f1_score(y_true, y_preds)\n",
    "    \n",
    "    metric_dict = {\n",
    "        \"accuracy\": round(accuracy, 2),\n",
    "        \"precision\": round(precision, 2),\n",
    "        \"recall\": round(recall, 2),\n",
    "        \"f1 score\": round(f1, 2)\n",
    "    }\n",
    "    \n",
    "    print(f\"Accuracy: {accuracy * 100:.2f}%\")\n",
    "    print(f\"Precision: {precision * 100:.2f}%\")\n",
    "    print(f\"Recall: {recall * 100:.2f}%\")\n",
    "    print(f\"F1 Score: {f1 * 100:.2f}%\")\n",
    "    \n",
    "    return metric_dict"
   ]
  },
  {
   "cell_type": "code",
   "execution_count": 28,
   "id": "e236eafc-70fc-4fe1-9907-73f9b1aeddfe",
   "metadata": {},
   "outputs": [
    {
     "name": "stdout",
     "output_type": "stream",
     "text": [
      "<class 'pandas.core.frame.DataFrame'>\n",
      "RangeIndex: 303 entries, 0 to 302\n",
      "Data columns (total 14 columns):\n",
      " #   Column    Non-Null Count  Dtype  \n",
      "---  ------    --------------  -----  \n",
      " 0   age       303 non-null    int64  \n",
      " 1   sex       303 non-null    int64  \n",
      " 2   cp        303 non-null    int64  \n",
      " 3   trestbps  303 non-null    int64  \n",
      " 4   chol      303 non-null    int64  \n",
      " 5   fbs       303 non-null    int64  \n",
      " 6   restecg   303 non-null    int64  \n",
      " 7   thalach   303 non-null    int64  \n",
      " 8   exang     303 non-null    int64  \n",
      " 9   oldpeak   303 non-null    float64\n",
      " 10  slope     303 non-null    int64  \n",
      " 11  ca        303 non-null    int64  \n",
      " 12  thal      303 non-null    int64  \n",
      " 13  target    303 non-null    int64  \n",
      "dtypes: float64(1), int64(13)\n",
      "memory usage: 33.3 KB\n"
     ]
    }
   ],
   "source": [
    "# import the heart disease dataset\n",
    "heart_disease = pd.read_csv('data/heart-disease.csv')\n",
    "heart_disease.info()"
   ]
  },
  {
   "cell_type": "code",
   "execution_count": 65,
   "id": "c6eebd85-fb77-4525-b1c4-aa5d2eed7f93",
   "metadata": {},
   "outputs": [],
   "source": [
    "# shuffle the samples and divide into features X and samples y\n",
    "np.random.seed(42)\n",
    "heart_disease_shuffled = heart_disease.sample(frac=1)\n",
    "\n",
    "X = heart_disease_shuffled.drop('target', axis=1)\n",
    "y = heart_disease_shuffled['target']\n",
    "\n",
    "# split the data into train, validate and test samples\n",
    "train_split = round(0.70 * len(heart_disease_shuffled))\n",
    "valid_split = round(train_split + 0.15 * len(heart_disease_shuffled))\n",
    "\n",
    "X_train, y_train = X[:train_split], y[:train_split]\n",
    "X_valid, y_valid = X[train_split:valid_split], y[train_split:valid_split]\n",
    "X_test,  y_test  = X[valid_split:], y[valid_split:]\n"
   ]
  },
  {
   "cell_type": "code",
   "execution_count": 69,
   "id": "eab17a8b-da10-414b-b900-67c264fe48b2",
   "metadata": {},
   "outputs": [
    {
     "data": {
      "text/plain": [
       "True"
      ]
     },
     "execution_count": 69,
     "metadata": {},
     "output_type": "execute_result"
    }
   ],
   "source": []
  },
  {
   "cell_type": "code",
   "execution_count": null,
   "id": "99b698e6-63dc-4e18-9e04-af7911ed95c0",
   "metadata": {},
   "outputs": [],
   "source": []
  }
 ],
 "metadata": {
  "kernelspec": {
   "display_name": "Python 3",
   "language": "python",
   "name": "python3"
  },
  "language_info": {
   "codemirror_mode": {
    "name": "ipython",
    "version": 3
   },
   "file_extension": ".py",
   "mimetype": "text/x-python",
   "name": "python",
   "nbconvert_exporter": "python",
   "pygments_lexer": "ipython3",
   "version": "3.8.10"
  }
 },
 "nbformat": 4,
 "nbformat_minor": 5
}
